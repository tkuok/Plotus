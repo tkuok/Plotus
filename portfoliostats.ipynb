{
 "cells": [
  {
   "cell_type": "code",
   "execution_count": null,
   "metadata": {},
   "outputs": [],
   "source": [
    "import yfinance as yf\n",
    "import numpy as np\n",
    "\n",
    "StartDate = \"2010-04-06\"\n",
    "EndDate = \"2019-09-30\"\n",
    "portfolio = {\"QQQ\":4000000,\"EWH\":13000000, \"WPS\":7000000,\"LQD\":23000000,\"BIL\":3000000}\n",
    "PortfolioValue = 0\n",
    "WeightsDict = {}\n",
    "WeightsList = []\n",
    "for i in portfolio:\n",
    "    PortfolioValue += float(portfolio[i])\n",
    "for i in portfolio:\n",
    "    WeightsDict[i] = portfolio[i]/PortfolioValue\n",
    "selected = list(portfolio)\n",
    "\n",
    "data = yf.download(selected, start=StartDate, end=EndDate)\n",
    "table = data['Adj Close']\n",
    "\n",
    "returns_daily = table.pct_change()\n",
    "returns_annual = returns_daily.mean() * 250\n",
    "\n",
    "cov_daily = returns_daily.cov()\n",
    "cov_annual = cov_daily * 250\n",
    "\n",
    "weights = []\n",
    "for i in table:\n",
    "    weight = WeightsDict[i]\n",
    "    weights.append(weight)\n",
    "weights = np.array(weights)\n",
    "\n",
    "returns = np.dot(weights, returns_annual)\n",
    "volatility = np.sqrt(np.dot(weights.T, np.dot(cov_annual, weights)))\n",
    "\n",
    "print returns\n",
    "print volatility\n"
   ]
  }
 ],
 "metadata": {
  "kernelspec": {
   "display_name": "Python 3",
   "language": "python",
   "name": "python3"
  },
  "language_info": {
   "codemirror_mode": {
    "name": "ipython",
    "version": 3
   },
   "file_extension": ".py",
   "mimetype": "text/x-python",
   "name": "python",
   "nbconvert_exporter": "python",
   "pygments_lexer": "ipython3",
   "version": "3.6.7"
  }
 },
 "nbformat": 4,
 "nbformat_minor": 2
}
